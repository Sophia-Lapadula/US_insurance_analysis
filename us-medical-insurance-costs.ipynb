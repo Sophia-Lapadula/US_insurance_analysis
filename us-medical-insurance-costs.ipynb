{
 "cells": [
  {
   "cell_type": "markdown",
   "metadata": {},
   "source": [
    "# U.S. Medical Insurance Costs"
   ]
  },
  {
   "cell_type": "markdown",
   "metadata": {},
   "source": [
    "The U.S. health insurance market has been a divisive point in American Politics in the last decade. The bipolarity of public opinion was showacased with the rise and fall of the Obama Care program, which tried to close the health gap in the country.\n",
    "\n",
    "By looking at countless storys of american patients, it is possible to notice the financial dificculties faced to access healthcare, and how unequal the access can be.\n",
    "\n",
    "This analysis focuses on trying to find efficient questions to analyse how different characteristics of a person can influence the cost paid for medical care in the United States.\n",
    "\n",
    "*It is important to mention that the database is not composed of real and updated numbers. Moreover it does not necessarily represents reallity.*\n",
    "\n",
    "The questions we are going to be trying to answer are:\n",
    "- [Is there a difference between how many women or man have insurance?](#how-different-the-cost-of-insurance-is-for-each-sex?)\n",
    "- [How age affects the insurance cost?](#how-age-affects-insurance-cost)\n",
    "- [Which is the best and worst case scenario?](#the-best-and-worst-case-scenario)\n",
    "- [Do children impact women or man more?](#do-children-affect-men-or-women-more)\n",
    "- [Costs of insurance per region](#analysing-the-charges-difference-between-regions)\n",
    "- [The cost of being a smoker](#the-cost-of-being-a-smoker)"
   ]
  },
  {
   "cell_type": "markdown",
   "metadata": {},
   "source": [
    "## Creating base code"
   ]
  },
  {
   "cell_type": "code",
   "execution_count": 140,
   "metadata": {},
   "outputs": [],
   "source": [
    "#Creatingh the arrays tat are going to represent the columns\n",
    "age=[]\n",
    "sex=[]\n",
    "bmi=[]\n",
    "children=[]\n",
    "smoker=[]\n",
    "region=[]\n",
    "charges=[]\n",
    "#Importing the database\n",
    "import csv\n",
    "from matplotlib import pyplot as plt\n",
    "import numpy as np\n",
    "#importing csv information\n",
    "with open('insurance.csv') as base:\n",
    "    reader=csv.DictReader(base)\n",
    "    for row in reader:\n",
    "        age.append(row['age'])\n",
    "        sex.append(row['sex'])\n",
    "        bmi.append(row['bmi'])\n",
    "        children.append(row['children'])\n",
    "        smoker.append(row['smoker'])\n",
    "        region.append(row['region'])\n",
    "        charges.append(row['charges'])\n",
    "    "
   ]
  },
  {
   "cell_type": "markdown",
   "metadata": {},
   "source": [
    "**Creating functions to calculate each proposed analysis**\n"
   ]
  },
  {
   "cell_type": "code",
   "execution_count": 141,
   "metadata": {},
   "outputs": [],
   "source": [
    "#Function to compare the cost for the two sexs\n",
    "def getchargesPersex():\n",
    "    sF=0\n",
    "    lF=0\n",
    "    sM=0\n",
    "    lM=0\n",
    "    for i in range(len(sex)):\n",
    "        if sex[i]=='female':\n",
    "            sF+=float(charges[i])\n",
    "            lF+=1\n",
    "        elif sex[i]=='male':\n",
    "            sM+=float(charges[i])\n",
    "            lM+=1\n",
    "    #Finding average prices\n",
    "    avgF=sF/lF\n",
    "    avgM=sM/lM\n",
    "    print(\"Female average:\"+str(avgF))\n",
    "    print(\"Male average:\"+str(avgM))\n",
    "    #Ploting the graphs\n",
    "    arr=[avgM,avgF]\n",
    "    tab=['Male','Female']\n",
    "    fig, ax=plt.subplots()\n",
    "    ax.bar([0.0,0.4],arr,width=0.3,color=(\"blue\",\"pink\"),edgecolor=\"white\")\n",
    "    plt.xticks([0.0,0.4],tab)\n",
    "    plt.show()\n",
    "    ax.set\n",
    "\n",
    "#Function to plot a graph of how age infleunces the charges\n",
    "def getAgeAffectingCost():\n",
    "    unique=np.unique(np.array(age))\n",
    "    mat=[]\n",
    "    for i in range(len(unique)):\n",
    "        a=[]\n",
    "        for j in range(len(age)):\n",
    "            if age[j]==unique[i]:\n",
    "                a.append(float(charges[j]))\n",
    "        mat.append(a)\n",
    "    # make data\n",
    "    avgs=[sum(mat[i])/len(mat) for i in range(len(unique))]\n",
    "    x = np.linspace(0, 8, 16)\n",
    "    y1 = 3 + 4*x/8 + np.random.uniform(0.0, 0.5, len(x))\n",
    "    y2 = 1 + 2*x/8 + np.random.uniform(0.0, 0.5, len(x))\n",
    "\n",
    "    # plot\n",
    "    fig, ax = plt.subplots()\n",
    "\n",
    "    ax.fill_between(x, y1, y2, alpha=.5, linewidth=0)\n",
    "    ax.plot(x, (y1 + y2)/2, linewidth=2)\n",
    "\n",
    "    ax.set(xlim=(0, 8), xticks=np.arange(1, 8),\n",
    "        ylim=(0, 8), yticks=np.arange(1, 8))\n",
    "    avgs=[sum(mat[i])/len(mat) for i in range(len(unique))]\n",
    "    plt.figure(figsize=(12,2))\n",
    "    plt.plot(unique,avgs)\n",
    "    \n",
    "#Getting the best case scenarion(the person who pays the least)\n",
    "def getMin():\n",
    "    minimo=0\n",
    "    r=[]\n",
    "    for i in range(len(charges)):\n",
    "        if charges[i]<charges[minimo]:\n",
    "            minimo=i\n",
    "\n",
    "    r.append(age[minimo])\n",
    "    r.append(sex[minimo])\n",
    "    r.append(bmi[minimo])\n",
    "    r.append(children[minimo])\n",
    "    r.append(smoker[minimo])\n",
    "    r.append(region[minimo])\n",
    "    r.append(charges[minimo])\n",
    "    return r\n",
    "\n",
    "#Getting the worst case scenario (the person who pays the most)\n",
    "def getMax():\n",
    "    maximo=0\n",
    "    r=[]\n",
    "    for i in range(len(charges)):\n",
    "        if charges[i]>charges[maximo]:\n",
    "            maximo=i\n",
    "\n",
    "    r.append(age[maximo])\n",
    "    r.append(sex[maximo])\n",
    "    r.append(bmi[maximo])\n",
    "    r.append(children[maximo])\n",
    "    r.append(smoker[maximo])\n",
    "    r.append(region[maximo])\n",
    "    r.append(charges[maximo])\n",
    "    return r\n",
    "\n",
    "#Function to get the cost man have with a incresing number of children\n",
    "def getChildMen():\n",
    "    has_zero=[]\n",
    "    has_one=[]\n",
    "    has_two=[]\n",
    "    has_three=[]\n",
    "    has_four=[]\n",
    "\n",
    "    for i in range(len(children)):\n",
    "        if sex[i]=='male':\n",
    "            if float(children[i])==0:\n",
    "                has_zero.append(float(charges[i]))\n",
    "            elif float(children[i])==1:\n",
    "                has_one.append(float(charges[i]))\n",
    "            elif float(children[i])==2:\n",
    "                has_two.append(float(charges[i]))\n",
    "            elif float(children[i])==3:\n",
    "                has_three.append(float(charges[i]))\n",
    "            elif float(children[i])==4:\n",
    "                has_four.append(float(charges[i]))\n",
    "\n",
    "    avgs=[]\n",
    "    avgs.append(sum(has_zero)/len(has_zero))\n",
    "    avgs.append(sum(has_one)/len(has_one))\n",
    "    avgs.append(sum(has_two)/len(has_two))\n",
    "    avgs.append(sum(has_three)/len(has_three))\n",
    "    avgs.append(sum(has_four)/len(has_four))\n",
    "    #Plotting the graph\n",
    "    xAxis=[0,1,2,3,4]\n",
    "    plt.plot(xAxis,avgs)\n",
    "    plt.title(\"Cost fo insurance per children for man\")\n",
    "    plt.show()\n",
    "\n",
    "#Function to get the cost man have with a incresing number of children\n",
    "def getChildWom():\n",
    "    has_zero=[]\n",
    "    has_one=[]\n",
    "    has_two=[]\n",
    "    has_three=[]\n",
    "    has_four=[]\n",
    "\n",
    "    for i in range(len(children)):\n",
    "        if sex[i]=='female':\n",
    "            if float(children[i])==0:\n",
    "                has_zero.append(float(charges[i]))\n",
    "            elif float(children[i])==1:\n",
    "                has_one.append(float(charges[i]))\n",
    "            elif float(children[i])==2:\n",
    "                has_two.append(float(charges[i]))\n",
    "            elif float(children[i])==3:\n",
    "                has_three.append(float(charges[i]))\n",
    "            elif float(children[i])==4:\n",
    "                has_four.append(float(charges[i]))\n",
    "\n",
    "    avgs=[]\n",
    "    avgs.append(sum(has_zero)/len(has_zero))\n",
    "    avgs.append(sum(has_one)/len(has_one))\n",
    "    avgs.append(sum(has_two)/len(has_two))\n",
    "    avgs.append(sum(has_three)/len(has_three))\n",
    "    avgs.append(sum(has_four)/len(has_four))\n",
    "    #Plotting the graphs\n",
    "    xAxis=[0,1,2,3,4]\n",
    "    plt.plot(xAxis,avgs)\n",
    "    plt.title(\"Cost fo insurance per children for woman\")\n",
    "    plt.show()\n",
    "\n",
    "#Function to get how the average cost of insurance changes per region\n",
    "def getInsurancePerRegion():\n",
    "    arrNortheast=[float(charges[i]) for i in range(len(region)) if region[i]=='northeast']\n",
    "    arrNorthwest=[float(charges[i]) for i in range(len(region)) if region[i]=='northwest']\n",
    "    arrSoutheast=[float(charges[i]) for i in range(len(region)) if region[i]=='southeast']\n",
    "    arrSouthwest=[float(charges[i]) for i in range(len(region)) if region[i]=='southwest']\n",
    "    avgNorthEast=sum(arrNortheast)/len(arrNortheast)\n",
    "    avgNorthwest=sum(arrNorthwest)/len(arrNorthwest)\n",
    "    avgSoutheast=sum(arrSoutheast)/len(arrSoutheast)\n",
    "    avgSouthwest=sum(arrSouthwest)/len(arrSouthwest)\n",
    "    #Plotting the graph\n",
    "    yAxis=[avgNorthEast,avgNorthwest,avgSoutheast,avgSouthwest]\n",
    "    xAxis=[\"North East\",\"North West\", \"South East\", \"South West\"]\n",
    "    plt.bar(xAxis,yAxis)\n",
    "    plt.axhline(sum(yAxis)/len(yAxis), color='red', ls='dotted')\n",
    "    plt.title(\"Average insurance charges per region of U.S.\")\n",
    "\n",
    "#Function to get the influence of smoking in insurance cost\n",
    "def getSmokerCost():\n",
    "    isSmoker=[float(charges[i]) for i in range(len(smoker)) if smoker[i]=='yes']\n",
    "    notSmoker=[float(charges[i]) for i in range(len(smoker)) if smoker[i]=='no']\n",
    "    avgSmoker=sum(isSmoker)/len(notSmoker)\n",
    "    avgNotSmoker=sum(notSmoker)/len(notSmoker)\n",
    "    \n",
    "    #Plotting the graph\n",
    "    xAxis=['Smokers', 'Not Smoker']\n",
    "    yAxis=[avgSmoker,avgNotSmoker]\n",
    "    plt.bar(xAxis,yAxis)\n",
    "    plt.axhline(sum(yAxis)/len(yAxis),color='red',ls='dotted')\n",
    "    plt.title(\"The cost of being a smoker in the U.S.\")"
   ]
  },
  {
   "cell_type": "markdown",
   "metadata": {},
   "source": [
    "\n",
    "## How different the cost of insurance is for each sex?\n"
   ]
  },
  {
   "cell_type": "code",
   "execution_count": 142,
   "metadata": {},
   "outputs": [
    {
     "name": "stdout",
     "output_type": "stream",
     "text": [
      "Female average:12569.57884383534\n",
      "Male average:13956.751177721886\n"
     ]
    },
    {
     "data": {
      "image/png": "[encoded data removed]",
      "text/plain": [
       "<Figure size 432x288 with 1 Axes>"
      ]
     },
     "metadata": {
      "needs_background": "light"
     },
     "output_type": "display_data"
    }
   ],
   "source": [
    "#Calling the function\n",
    "getchargesPersex()"
   ]
  },
  {
   "cell_type": "markdown",
   "metadata": {},
   "source": [
    "In the graph above it is possible to conclude that males pay $1400 more then females. Some of the most common topics cited by scientific literature that come up with hypothesis that explain this conclusion are:\n",
    "\n",
    "- A higher statitical predespostion for having cancer and dying because fo it (https://www.sciencedirect.com/science/article/pii/S1569905610000485)\n",
    "\n",
    "- A higher indicator of homicidal violence, which is a particularly stronger factor among racial minorities in the U.S.(https://www.ajol.info/index.php/sacq/article/view/101465)\n",
    "\n",
    "- A higher risk of premature suicide (https://link.springer.com/article/10.1007/s00406-003-0397-6)"
   ]
  },
  {
   "cell_type": "markdown",
   "metadata": {},
   "source": [
    "## How age affects insurance cost"
   ]
  },
  {
   "cell_type": "code",
   "execution_count": 143,
   "metadata": {},
   "outputs": [
    {
     "name": "stdout",
     "output_type": "stream",
     "text": [
      "None\n"
     ]
    },
    {
     "data": {
      "image/png": "[encoded data removed]",
      "text/plain": [
       "<Figure size 864x144 with 1 Axes>"
      ]
     },
     "metadata": {
      "needs_background": "light"
     },
     "output_type": "display_data"
    }
   ],
   "source": [
    "print(getAgeAffectingCost())"
   ]
  },
  {
   "cell_type": "markdown",
   "metadata": {},
   "source": [
    "By looking at the graph above, it is possible to notice that he charges for younger people in the U.S. skyrocket in the 2 early year of adulthood. Some explanations for this factor can also be correlated by the articles show in the previous topics, which indicates that in this age there is a higher risk of dying due to external influences.\n",
    "\n",
    "As we go ahead in the age range, it is noticible that the average of insurance charges are particularly higher beteween the gap of 43 to 64 years old. Hypothesis that explain this factor usually involve the higher risk of developing cancer and heart deseases during this age (https://link.springer.com/article/10.1007/s00246-014-0884-8)"
   ]
  },
  {
   "cell_type": "markdown",
   "metadata": {},
   "source": [
    "## The best and worst case scenario\n",
    "\n"
   ]
  },
  {
   "cell_type": "code",
   "execution_count": 144,
   "metadata": {},
   "outputs": [
    {
     "name": "stdout",
     "output_type": "stream",
     "text": [
      "The best case is:\n",
      "age,sex,bmi,children,smoker,region,charges\n",
      "['48', 'female', '32.3', '2', 'no', 'northeast', '10043.249']\n",
      "\n",
      " The worst case is:\n",
      "age,sex,bmi,children,smoker,region,charges\n",
      "['52', 'female', '18.335', '0', 'no', 'northwest', '9991.03765']\n"
     ]
    }
   ],
   "source": [
    "print(\"The best case is:\")\n",
    "print(\"age,sex,bmi,children,smoker,region,charges\")\n",
    "print(getMin())\n",
    "\n",
    "print(\"\\n The worst case is:\")\n",
    "print(\"age,sex,bmi,children,smoker,region,charges\")\n",
    "print(getMax())"
   ]
  },
  {
   "cell_type": "markdown",
   "metadata": {},
   "source": [
    "We can see that the difference beteween the two cases is more related to BMI differences. The BMI indicator is an important factor to analyse someone's health since having a higher BMI indicates obesity and related ilness such as diabetes, cancer and depression."
   ]
  },
  {
   "cell_type": "markdown",
   "metadata": {},
   "source": [
    "## Do children affect men or women more?\n"
   ]
  },
  {
   "cell_type": "code",
   "execution_count": 145,
   "metadata": {},
   "outputs": [
    {
     "data": {
      "image/png": "[encoded data removed]",
      "text/plain": [
       "<Figure size 432x288 with 1 Axes>"
      ]
     },
     "metadata": {
      "needs_background": "light"
     },
     "output_type": "display_data"
    },
    {
     "name": "stdout",
     "output_type": "stream",
     "text": [
      "None\n"
     ]
    },
    {
     "data": {
      "image/png": "[encoded data removed]",
      "text/plain": [
       "<Figure size 432x288 with 1 Axes>"
      ]
     },
     "metadata": {
      "needs_background": "light"
     },
     "output_type": "display_data"
    },
    {
     "name": "stdout",
     "output_type": "stream",
     "text": [
      "None\n"
     ]
    }
   ],
   "source": [
    "print(getChildMen())\n",
    "print(getChildWom())"
   ]
  },
  {
   "cell_type": "markdown",
   "metadata": {},
   "source": [
    "It is common sense that in most cases children will affect women and men's lifes in different ways, wich is noticible in the graph above. unfortunatelly do to margin of error differences it is not possible to fingd a conclusive answer around this question."
   ]
  },
  {
   "cell_type": "markdown",
   "metadata": {},
   "source": [
    "## Analysing the charges difference between regions\n"
   ]
  },
  {
   "cell_type": "code",
   "execution_count": 146,
   "metadata": {},
   "outputs": [
    {
     "name": "stdout",
     "output_type": "stream",
     "text": [
      "None\n"
     ]
    },
    {
     "data": {
      "image/png": "[encoded data removed]",
      "text/plain": [
       "<Figure size 432x288 with 1 Axes>"
      ]
     },
     "metadata": {
      "needs_background": "light"
     },
     "output_type": "display_data"
    }
   ],
   "source": [
    "print(getInsurancePerRegion())"
   ]
  },
  {
   "cell_type": "markdown",
   "metadata": {},
   "source": [
    "As presented in the graph above, the only region that has a significant cost difference from others is the Southeast of U.S."
   ]
  },
  {
   "cell_type": "markdown",
   "metadata": {},
   "source": [
    "## The cost of being a smoker\n"
   ]
  },
  {
   "cell_type": "code",
   "execution_count": 147,
   "metadata": {},
   "outputs": [
    {
     "name": "stdout",
     "output_type": "stream",
     "text": [
      "None\n"
     ]
    },
    {
     "data": {
      "image/png": "[encoded data removed]",
      "text/plain": [
       "<Figure size 432x288 with 1 Axes>"
      ]
     },
     "metadata": {
      "needs_background": "light"
     },
     "output_type": "display_data"
    }
   ],
   "source": [
    "print(getSmokerCost())"
   ]
  },
  {
   "cell_type": "markdown",
   "metadata": {},
   "source": [
    "Since it is directly associated with a much higher risk of developing cancer (as shown in this article https://jamanetwork.com/journals/jama/article-abstract/192974), logically it should be charged more. Surprisingly smoking does not affect health insurance costs based on the data analysed "
   ]
  },
  {
   "cell_type": "markdown",
   "metadata": {},
   "source": [
    "# Conclusion\n",
    "\n",
    "As discussed in the previous questionaments it is possible to conclude that in the scenario presented in this database the two most influent factors when it comes to insurance charges are sex, age, and BMI."
   ]
  }
 ],
 "metadata": {
  "kernelspec": {
   "display_name": "Python 3",
   "language": "python",
   "name": "python3"
  },
  "language_info": {
   "codemirror_mode": {
    "name": "ipython",
    "version": 3
   },
   "file_extension": ".py",
   "mimetype": "text/x-python",
   "name": "python",
   "nbconvert_exporter": "python",
   "pygments_lexer": "ipython3",
   "version": "3.10.1"
  }
 },
 "nbformat": 4,
 "nbformat_minor": 4
}
